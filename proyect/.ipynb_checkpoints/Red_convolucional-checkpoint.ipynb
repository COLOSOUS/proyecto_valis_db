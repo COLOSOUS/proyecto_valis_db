{
 "cells": [
  {
   "cell_type": "markdown",
   "id": "ddb84e58",
   "metadata": {
    "id": "ddb84e58"
   },
   "source": [
    "<h2>Red convolucional</h2>"
   ]
  },
  {
   "cell_type": "code",
   "execution_count": 1,
   "id": "a2fd0adb",
   "metadata": {
    "id": "a2fd0adb"
   },
   "outputs": [],
   "source": [
    "import torch\n",
    "import numpy as np\n",
    "import matplotlib.pyplot as plt\n",
    "from torchvision import transforms"
   ]
  },
  {
   "cell_type": "markdown",
   "id": "ffd9d68d",
   "metadata": {
    "id": "ffd9d68d"
   },
   "source": [
    "Se define la base de datos"
   ]
  },
  {
   "cell_type": "code",
   "execution_count": 2,
   "id": "5c26547e",
   "metadata": {
    "id": "5c26547e"
   },
   "outputs": [],
   "source": [
    "T = transforms.Compose([transforms.ToTensor()])\n",
    "#images = torchvision.datasets.MNIST('mnist_data', transform=T,download=True)\n",
    "\n"
   ]
  },
  {
   "cell_type": "code",
   "execution_count": 3,
   "id": "c2e28bf1",
   "metadata": {
    "id": "c2e28bf1"
   },
   "outputs": [],
   "source": [
    "\n",
    "#image_loader = torch.utils.data.DataLoader(images,batch_size=128)\n"
   ]
  },
  {
   "cell_type": "code",
   "execution_count": 4,
   "id": "fb13963e",
   "metadata": {
    "colab": {
     "base_uri": "https://localhost:8080/",
     "height": 71
    },
    "id": "fb13963e",
    "outputId": "91eea705-8e39-462b-ae83-c4fa799af3f3"
   },
   "outputs": [
    {
     "data": {
      "text/plain": [
       "'import pandas as pd\\n\\n#cargamos los datos de entrada\\ndata = pd.read_csv(\"./datos_1.csv\",sep=\";\")\\n# Asignamos nuestra variable de entrada X para entrenamiento y las etiquetas Y.\\ninps =data[\\'%_fragmentacion\\'].values.reshape(-1, 1)\\ntgts = data[\\'Target_%_fragmentacion\\'].values.reshape(-1, 1)\\ninps2 =data[\\'usabilidad\\'].values.reshape(-1, 1)\\ntgts2 = data[\\'Target_usabilidad\\'].values.reshape(-1, 1)\\n'"
      ]
     },
     "execution_count": 4,
     "metadata": {},
     "output_type": "execute_result"
    }
   ],
   "source": [
    "\"\"\"import pandas as pd\n",
    "\n",
    "#cargamos los datos de entrada\n",
    "data = pd.read_csv(\"./datos_1.csv\",sep=\";\")\n",
    "# Asignamos nuestra variable de entrada X para entrenamiento y las etiquetas Y.\n",
    "inps =data['%_fragmentacion'].values.reshape(-1, 1)\n",
    "tgts = data['Target_%_fragmentacion'].values.reshape(-1, 1)\n",
    "inps2 =data['usabilidad'].values.reshape(-1, 1)\n",
    "tgts2 = data['Target_usabilidad'].values.reshape(-1, 1)\n",
    "\"\"\""
   ]
  },
  {
   "cell_type": "code",
   "execution_count": null,
   "id": "e6913827",
   "metadata": {},
   "outputs": [],
   "source": []
  },
  {
   "cell_type": "code",
   "execution_count": 27,
   "id": "02beef7b",
   "metadata": {
    "colab": {
     "base_uri": "https://localhost:8080/"
    },
    "id": "02beef7b",
    "outputId": "c9a91175-4ec5-4ba0-a282-54c0dbfc3414"
   },
   "outputs": [
    {
     "data": {
      "text/html": [
       "<div>\n",
       "<style scoped>\n",
       "    .dataframe tbody tr th:only-of-type {\n",
       "        vertical-align: middle;\n",
       "    }\n",
       "\n",
       "    .dataframe tbody tr th {\n",
       "        vertical-align: top;\n",
       "    }\n",
       "\n",
       "    .dataframe thead th {\n",
       "        text-align: right;\n",
       "    }\n",
       "</style>\n",
       "<table border=\"1\" class=\"dataframe\">\n",
       "  <thead>\n",
       "    <tr style=\"text-align: right;\">\n",
       "      <th></th>\n",
       "      <th>Table_Name</th>\n",
       "      <th>Index_Name</th>\n",
       "      <th>Index_Type</th>\n",
       "      <th>Fragmentation_Percentage</th>\n",
       "      <th>Tg_Fragmentation_Percentage</th>\n",
       "    </tr>\n",
       "  </thead>\n",
       "  <tbody>\n",
       "    <tr>\n",
       "      <th>0</th>\n",
       "      <td>TMP_AHD_AGF_FMU_RESUMEN_CALCULO_CUOTA</td>\n",
       "      <td>NaN</td>\n",
       "      <td>HEAP</td>\n",
       "      <td>98.113208</td>\n",
       "      <td>2</td>\n",
       "    </tr>\n",
       "    <tr>\n",
       "      <th>1</th>\n",
       "      <td>AHD_PAR_EMPLEADOR</td>\n",
       "      <td>PK_AHD_PAR_EMPLEADOR</td>\n",
       "      <td>CLUSTERED INDEX</td>\n",
       "      <td>95.639810</td>\n",
       "      <td>2</td>\n",
       "    </tr>\n",
       "    <tr>\n",
       "      <th>2</th>\n",
       "      <td>AHD_AGF_FMU_RESUMEN_CALCULO_CUOTA</td>\n",
       "      <td>XPKAHD_AGF_FMU_RESUMEN_CALCULO_CUOTA</td>\n",
       "      <td>CLUSTERED INDEX</td>\n",
       "      <td>93.897429</td>\n",
       "      <td>2</td>\n",
       "    </tr>\n",
       "    <tr>\n",
       "      <th>3</th>\n",
       "      <td>AHD_AGF_FMU_SALDO_CUOTAS</td>\n",
       "      <td>XPKAHD_AGF_FMU_SALDO_CUOTAS</td>\n",
       "      <td>CLUSTERED INDEX</td>\n",
       "      <td>92.365961</td>\n",
       "      <td>2</td>\n",
       "    </tr>\n",
       "    <tr>\n",
       "      <th>4</th>\n",
       "      <td>AHD_AGF_FMU_MOVIMIENTO_CUENTAS</td>\n",
       "      <td>XPKAHD_AGF_FMU_MOVIMIENTO_CUENTAS</td>\n",
       "      <td>CLUSTERED INDEX</td>\n",
       "      <td>90.985348</td>\n",
       "      <td>2</td>\n",
       "    </tr>\n",
       "  </tbody>\n",
       "</table>\n",
       "</div>"
      ],
      "text/plain": [
       "                              Table_Name  \\\n",
       "0  TMP_AHD_AGF_FMU_RESUMEN_CALCULO_CUOTA   \n",
       "1                      AHD_PAR_EMPLEADOR   \n",
       "2      AHD_AGF_FMU_RESUMEN_CALCULO_CUOTA   \n",
       "3               AHD_AGF_FMU_SALDO_CUOTAS   \n",
       "4         AHD_AGF_FMU_MOVIMIENTO_CUENTAS   \n",
       "\n",
       "                             Index_Name       Index_Type  \\\n",
       "0                                   NaN             HEAP   \n",
       "1                  PK_AHD_PAR_EMPLEADOR  CLUSTERED INDEX   \n",
       "2  XPKAHD_AGF_FMU_RESUMEN_CALCULO_CUOTA  CLUSTERED INDEX   \n",
       "3           XPKAHD_AGF_FMU_SALDO_CUOTAS  CLUSTERED INDEX   \n",
       "4     XPKAHD_AGF_FMU_MOVIMIENTO_CUENTAS  CLUSTERED INDEX   \n",
       "\n",
       "   Fragmentation_Percentage  Tg_Fragmentation_Percentage  \n",
       "0                 98.113208                            2  \n",
       "1                 95.639810                            2  \n",
       "2                 93.897429                            2  \n",
       "3                 92.365961                            2  \n",
       "4                 90.985348                            2  "
      ]
     },
     "execution_count": 27,
     "metadata": {},
     "output_type": "execute_result"
    }
   ],
   "source": [
    "import pandas as pd\n",
    "\n",
    "#cargamos los datos de entrada\n",
    "archivo='C:/Users/Valisadmin/Desktop/Machine_learning/xlsx/indices.xlsx'\n",
    "data = pd.read_excel(archivo,\n",
    "     engine='openpyxl',sheet_name='AHD_FMMM_QA')\n",
    "#data = pd.read_csv(\"./indicices.xlsx\",sep=\";\")\n",
    "#df = pd.read_excel(archivo, sheet_name='Hoja1')\n",
    "# Asignamos nuestra variable de entrada X para entrenamiento y las etiquetas Y.\n",
    "inps =data['Fragmentation_Percentage'].values[0:60]\n",
    "tgts = data['Tg_Fragmentation_Percentage'].values[0:60]\n",
    "data.head()\n",
    "\n"
   ]
  },
  {
   "cell_type": "code",
   "execution_count": 28,
   "id": "42347d2f",
   "metadata": {
    "colab": {
     "base_uri": "https://localhost:8080/",
     "height": 282
    },
    "id": "42347d2f",
    "outputId": "0f5a9187-2960-409f-9217-c31db8444a9c",
    "scrolled": true
   },
   "outputs": [
    {
     "data": {
      "text/html": [
       "<div>\n",
       "<style scoped>\n",
       "    .dataframe tbody tr th:only-of-type {\n",
       "        vertical-align: middle;\n",
       "    }\n",
       "\n",
       "    .dataframe tbody tr th {\n",
       "        vertical-align: top;\n",
       "    }\n",
       "\n",
       "    .dataframe thead th {\n",
       "        text-align: right;\n",
       "    }\n",
       "</style>\n",
       "<table border=\"1\" class=\"dataframe\">\n",
       "  <thead>\n",
       "    <tr style=\"text-align: right;\">\n",
       "      <th></th>\n",
       "      <th>Fragmentation_Percentage</th>\n",
       "      <th>Tg_Fragmentation_Percentage</th>\n",
       "    </tr>\n",
       "  </thead>\n",
       "  <tbody>\n",
       "    <tr>\n",
       "      <th>count</th>\n",
       "      <td>74.000000</td>\n",
       "      <td>74.000000</td>\n",
       "    </tr>\n",
       "    <tr>\n",
       "      <th>mean</th>\n",
       "      <td>24.259822</td>\n",
       "      <td>0.608108</td>\n",
       "    </tr>\n",
       "    <tr>\n",
       "      <th>std</th>\n",
       "      <td>32.964467</td>\n",
       "      <td>0.872998</td>\n",
       "    </tr>\n",
       "    <tr>\n",
       "      <th>min</th>\n",
       "      <td>0.000000</td>\n",
       "      <td>0.000000</td>\n",
       "    </tr>\n",
       "    <tr>\n",
       "      <th>25%</th>\n",
       "      <td>0.000000</td>\n",
       "      <td>0.000000</td>\n",
       "    </tr>\n",
       "    <tr>\n",
       "      <th>50%</th>\n",
       "      <td>3.321142</td>\n",
       "      <td>0.000000</td>\n",
       "    </tr>\n",
       "    <tr>\n",
       "      <th>75%</th>\n",
       "      <td>43.386619</td>\n",
       "      <td>1.750000</td>\n",
       "    </tr>\n",
       "    <tr>\n",
       "      <th>max</th>\n",
       "      <td>98.113208</td>\n",
       "      <td>2.000000</td>\n",
       "    </tr>\n",
       "  </tbody>\n",
       "</table>\n",
       "</div>"
      ],
      "text/plain": [
       "       Fragmentation_Percentage  Tg_Fragmentation_Percentage\n",
       "count                 74.000000                    74.000000\n",
       "mean                  24.259822                     0.608108\n",
       "std                   32.964467                     0.872998\n",
       "min                    0.000000                     0.000000\n",
       "25%                    0.000000                     0.000000\n",
       "50%                    3.321142                     0.000000\n",
       "75%                   43.386619                     1.750000\n",
       "max                   98.113208                     2.000000"
      ]
     },
     "execution_count": 28,
     "metadata": {},
     "output_type": "execute_result"
    }
   ],
   "source": [
    "data.describe()\n"
   ]
  },
  {
   "cell_type": "code",
   "execution_count": 71,
   "id": "1fe395e4",
   "metadata": {
    "colab": {
     "base_uri": "https://localhost:8080/"
    },
    "id": "1fe395e4",
    "outputId": "0e88e177-d00f-4c34-d733-025b7669a490"
   },
   "outputs": [
    {
     "name": "stdout",
     "output_type": "stream",
     "text": [
      "torch.float32\n",
      "torch.int64\n"
     ]
    },
    {
     "name": "stderr",
     "output_type": "stream",
     "text": [
      "C:\\ProgramData\\Anaconda3\\envs\\ambiente_pytorch\\lib\\site-packages\\ipykernel_launcher.py:5: UserWarning: To copy construct from a tensor, it is recommended to use sourceTensor.clone().detach() or sourceTensor.clone().detach().requires_grad_(True), rather than torch.tensor(sourceTensor).\n",
      "  \"\"\"\n",
      "C:\\ProgramData\\Anaconda3\\envs\\ambiente_pytorch\\lib\\site-packages\\ipykernel_launcher.py:6: UserWarning: To copy construct from a tensor, it is recommended to use sourceTensor.clone().detach() or sourceTensor.clone().detach().requires_grad_(True), rather than torch.tensor(sourceTensor).\n",
      "  \n"
     ]
    }
   ],
   "source": [
    "#inps = torch.arange(10 * 5, dtype=torch.float32).view(10, 5)\n",
    "#tgts = torch.arange(10 * 5, dtype=torch.float32).view(10, 5)\n",
    "print(inps.dtype)\n",
    "print(tgts.dtype)\n",
    "inps =torch.tensor(inps, dtype=torch.float32)\n",
    "tgts =torch.tensor(tgts, dtype=torch.int64)\n",
    "\n",
    "n_digits = 1\n",
    "\n",
    "inps = np.around(inps, decimals=1) \n",
    "\n",
    "\"\"\"\n",
    "inps2 =torch.tensor(inps2,dtype=torch.float32)\n",
    "tgts2 =torch.tensor(tgts2, dtype=torch.int64)\n",
    "inps=torch.cat((inps, inps2), 1)\n",
    "tgts=torch.cat((tgts, tgts2), 1)\n",
    "\"\"\"\n",
    "\n",
    "dataset = torch.utils.data.TensorDataset(inps, tgts)\n",
    "\n",
    "\n",
    "\n"
   ]
  },
  {
   "cell_type": "markdown",
   "id": "41afe555",
   "metadata": {
    "id": "41afe555"
   },
   "source": [
    "Definimos el modelo de machine learning(capa entrada, capa oculta, capa de salida)"
   ]
  },
  {
   "cell_type": "code",
   "execution_count": 84,
   "id": "bd2a973b",
   "metadata": {
    "id": "bd2a973b"
   },
   "outputs": [],
   "source": [
    "import torch.nn as nn\n",
    "#definimos la red neuronal \n",
    "class Classifier(nn.Module):\n",
    "    def __init__(self):\n",
    "        super(Classifier,self).__init__()\n",
    "        self.input_layer = nn.Linear(1,100)\n",
    "        self.hidden_layer = nn.Linear(100,20)\n",
    "        self.output_layer = nn.Linear(20,3)\n",
    "        self.activation = nn.ReLU()\n",
    "        self.m = nn.Softmax(dim=1)#pasada por la capa de salida\n",
    "    def forward(self, input_image):\n",
    "        input_image = input_image.view(-1,1)                     #convertimos la imagen a vector\n",
    "        output = self.activation(self.input_layer(input_image)) #pasada por la capa entrada\n",
    "        output = self.activation(self.hidden_layer(output))   #pasada por la capa oculta\n",
    "        output = self.output_layer(output)\n",
    "        #output = self.m(output)\n",
    "        \n",
    "        return output"
   ]
  },
  {
   "cell_type": "markdown",
   "id": "7a39c010",
   "metadata": {
    "id": "7a39c010"
   },
   "source": [
    "Hiper parametros de entrenamiento"
   ]
  },
  {
   "cell_type": "code",
   "execution_count": 101,
   "id": "24683288",
   "metadata": {
    "id": "24683288"
   },
   "outputs": [],
   "source": [
    "from torch import optim\n",
    "import numpy as np\n",
    "classifier = Classifier() #instanciamos la RN\n",
    "loss_function = nn.CrossEntropyLoss() #función de pérdidas\n",
    "parameters = classifier.parameters()\n",
    "optimizer = optim.Adam(params=parameters, lr=0.0001) #algoritmo usado para optimizar los parámetros\n",
    "epochs = 100#número de veces que pasamos cada muestra a la RN durante el entrenamiento\n",
    "iterations = 0 #número total de iterations para mostrar el error\n",
    "losses = np.array([]) #array que guarda la pérdida en cada iteración\n",
    "\n",
    "\n",
    "\n",
    "\n"
   ]
  },
  {
   "cell_type": "markdown",
   "id": "1fb68472",
   "metadata": {
    "id": "1fb68472"
   },
   "source": [
    "Bucle de entrenamiento"
   ]
  },
  {
   "cell_type": "code",
   "execution_count": 102,
   "id": "7f3c044f",
   "metadata": {
    "id": "7f3c044f"
   },
   "outputs": [],
   "source": [
    "from torch.autograd import Variable #necesario para calcular gradientes\n",
    "\n",
    "for e in range(epochs):\n",
    "    loader = torch.utils.data.DataLoader(dataset,shuffle=True, batch_size=4,\n",
    "                    pin_memory=True)\n",
    "    for i, (images, tags) in enumerate(loader):\n",
    "        #print(images)\n",
    "        #print(images.size())\n",
    "        \n",
    "       \n",
    "        tags=tags\n",
    "        \n",
    "        images, tags = Variable(images), Variable(tags) #Convertir a variable para derivación\n",
    "        output = classifier(images) #calcular la salida para una imagen\n",
    "        classifier.zero_grad() #poner los gradientes a cero en cada iteración\n",
    "        error = loss_function(output, tags) #calcular el error\n",
    "        error.backward() #obtener los gradientes y propagar\n",
    "        optimizer.step() #actualizar los pesos con los gradientes\n",
    "        iterations += 1\n",
    "        losses = np.append(losses,error.item())\n"
   ]
  },
  {
   "cell_type": "code",
   "execution_count": 103,
   "id": "2b4f35c2",
   "metadata": {
    "id": "2b4f35c2"
   },
   "outputs": [],
   "source": [
    "import matplotlib.pyplot as plt\n",
    "plt.style.use('seaborn-whitegrid')\n",
    "#vemos las pérdidas en cada iteración de forma gráfica\n",
    "n_digits = 3\n",
    "\n",
    "rounded = np.around(losses, decimals=3) \n",
    "#print(rounded)\n",
    "\n",
    "#[valer frag, valores usabilidad]\n"
   ]
  },
  {
   "cell_type": "code",
   "execution_count": null,
   "id": "7e0afd80",
   "metadata": {
    "id": "7e0afd80"
   },
   "outputs": [],
   "source": []
  },
  {
   "cell_type": "code",
   "execution_count": 104,
   "id": "a16c93c4",
   "metadata": {
    "colab": {
     "base_uri": "https://localhost:8080/",
     "height": 291
    },
    "id": "a16c93c4",
    "outputId": "61ebcb6d-8940-42d5-e0c5-13f1b2e39081"
   },
   "outputs": [
    {
     "data": {
      "image/png": "[encoded data removed]",
      "text/plain": [
       "<Figure size 432x288 with 1 Axes>"
      ]
     },
     "metadata": {},
     "output_type": "display_data"
    }
   ],
   "source": [
    "plt.plot(np.arange(iterations),rounded)\n",
    "plt.title(\"Error de entrenamiento\")\n",
    "plt.xlabel(\"Dato usado en el entrenamiento\")\n",
    "plt.ylabel(\"CrossEntropyLoss\")\n",
    "plt.show()"
   ]
  },
  {
   "cell_type": "markdown",
   "id": "7c5c8818",
   "metadata": {},
   "source": [
    "# Probar el modelo\n"
   ]
  },
  {
   "cell_type": "code",
   "execution_count": 105,
   "id": "63f36bc4",
   "metadata": {},
   "outputs": [
    {
     "name": "stdout",
     "output_type": "stream",
     "text": [
      "tensor([[-1.4006, -1.3619, -0.5587]], grad_fn=<AddmmBackward>)\n"
     ]
    }
   ],
   "source": [
    "ejemplo =torch.tensor([],dtype=torch.float32)\n",
    "prediccion1=classifier(ejemplo)\n",
    "print(prediccion1)"
   ]
  },
  {
   "cell_type": "code",
   "execution_count": null,
   "id": "472d162b",
   "metadata": {},
   "outputs": [],
   "source": [
    "try:\n",
    "    import tkinter as tk                # python 3\n",
    "    from tkinter import font as tkfont  # python 3\n",
    "except ImportError:\n",
    "    import Tkinter as tk     # python 2\n",
    "    import tkFont as tkfont  # python \n",
    "from tkinter import ttk\n",
    "class SampleApp(tk.Tk):\n",
    "\n",
    "    def __init__(self, *args, **kwargs):\n",
    "        tk.Tk.__init__(self, *args, **kwargs)\n",
    "\n",
    "        self.title_font = tkfont.Font(family='IA', size=18, weight=\"bold\", slant=\"italic\")\n",
    "        self.configure(width=330, height=600)\n",
    "        # the container is where we'll stack a bunch of frames\n",
    "        # on top of each other, then the one we want visible\n",
    "        # will be raised above the others\n",
    "        container = tk.Frame(self)\n",
    "        container.pack(side=\"top\", fill=\"both\", expand=True)\n",
    "        container.grid_rowconfigure(0, weight=1)\n",
    "        container.grid_columnconfigure(0, weight=1)\n",
    "\n",
    "        self.frames = {}\n",
    "        for F in (StartPage, PageOne, PageTwo):\n",
    "            page_name = F.__name__\n",
    "            frame = F(parent=container, controller=self)\n",
    "            self.frames[page_name] = frame\n",
    "\n",
    "            # put all of the pages in the same location;\n",
    "            # the one on the top of the stacking order\n",
    "            # will be the one that is visible.\n",
    "            frame.grid(row=0, column=0, sticky=\"nsew\")\n",
    "\n",
    "        self.show_frame(\"StartPage\")\n",
    "\n",
    "    def show_frame(self, page_name):\n",
    "        '''Show a frame for the given page name'''\n",
    "        frame = self.frames[page_name]\n",
    "        frame.tkraise()\n",
    "\n",
    "\n",
    "class StartPage(tk.Frame):\n",
    "\n",
    "    def __init__(self, parent, controller):\n",
    "        tk.Frame.__init__(self, parent)\n",
    "        self.controller = controller\n",
    "        self.master = parent\n",
    "        bottomframe0 = tk.Frame(self,parent)\n",
    "        bottomframe0.pack(side=\"bottom\" )\n",
    "        bottomframe = tk.Frame(bottomframe0,parent)\n",
    "        bottomframe.pack(side=\"bottom\" )\n",
    "        bottomframe2 = tk.Frame(bottomframe,parent)\n",
    "        bottomframe2.pack(side=\"bottom\" )\n",
    "        bottomframe3 = tk.Frame(bottomframe2,parent)\n",
    "        bottomframe3.pack(side=\"bottom\" )\n",
    "        \n",
    "        #self.place(relwidth=1, relheight=1)\n",
    "        \n",
    "        \n",
    "        label = tk.Label(self, text=\"Pagina de inicio\", font=controller.title_font)\n",
    "        label.pack(side=\"top\", fill=\"x\", pady=10)\n",
    "        \n",
    "        text = tk.Text(self)        \n",
    "        msg = tk.Label(bottomframe0, text=\"Nombre servidor\")\n",
    "        msg.place(x=20, y=10)\n",
    "        msg.pack(side=\"left\", fill=\"x\", pady=10)\n",
    "        entry_var = tk.StringVar()\n",
    "        self.input1=tk.Entry(bottomframe0, textvariable=entry_var)\n",
    "        self.input1.place(x=115, y=10)\n",
    "        self.input1.pack(side=\"left\", fill=\"x\", pady=10)\n",
    "        \n",
    "        text = tk.Text(self)        \n",
    "        msg = tk.Label(bottomframe, text=\"Nombre DB\")\n",
    "        msg.place(x=20, y=30)\n",
    "        msg.pack(side=\"left\", fill=\"x\", pady=10)\n",
    "        \n",
    "        entry_var = tk.StringVar()\n",
    "        self.input2=tk.Entry(bottomframe, textvariable=entry_var)\n",
    "        self.input2.place(x=115, y=30)\n",
    "        self.input2.pack(side=\"left\", fill=\"x\", pady=10)\n",
    "        #----------------------------------------------------------\n",
    "        \n",
    "        new_button = tk.Button(bottomframe2)\n",
    "        new_button [\"text\"] = \"Nuevo\"\n",
    "        new_button[\"command\"] = self.new\n",
    "        \n",
    "        \n",
    "        new_button.pack(side=\"left\", fill=\"x\", pady=10)\n",
    "        rec_button = tk.Button(bottomframe2)\n",
    "        rec_button[\"text\"] = \"Recordar\"\n",
    "        rec_button[\"command\"] = self.recovery\n",
    "        rec_button.pack(side=\"left\", fill=\"x\", pady=10)\n",
    "       \n",
    "        \n",
    "        \n",
    "        \n",
    "        button1 = tk.Button(bottomframe3, text=\"Resultados\",\n",
    "                            command=lambda: controller.show_frame(\"PageOne\"))\n",
    "        #button2 = tk.Button(self, text=\"Go to Page Two\",\n",
    "                            #command=lambda: controller.show_frame(\"PageTwo\"))\n",
    "            \n",
    "        button1.pack(side=\"left\", fill=\"x\", pady=10)\n",
    "        #button2.pack()\n",
    "        quit = tk.Button(bottomframe3, text=\"QUIT\", fg=\"red\",\n",
    "                              command=self.master.destroy)\n",
    "        quit.pack(side=\"bottom\", fill=\"x\", pady=10)\n",
    "        quit.place(x=140, y=180)\n",
    "    def recovery(self):\n",
    "        self.input1.delete(0, 'end')\n",
    "        self.input2.delete(0, 'end')\n",
    "        #input3.delete(0, 'end') \n",
    "        #input4.delete(0, 'end')\n",
    "        self.input1.insert(0, \"Inar\")\n",
    "        self.input2.insert(0, \"AdventureWorks2014\") \n",
    "        #input3.insert(0, \"admin\") \n",
    "        #input4.insert(0, \"admin\")\n",
    "    def new(self):\n",
    "        self.input1.delete(0, 'end')\n",
    "        self.input2.delete(0, 'end')\n",
    "    def get(self):\n",
    "        print(self.input.get())\n",
    "         \n",
    "        \n",
    "\n",
    "\n",
    "class PageOne(tk.Frame):\n",
    "\n",
    "    def __init__(self, parent, controller):\n",
    "        tk.Frame.__init__(self, parent)\n",
    "        self.controller = controller\n",
    "        bottomframe = tk.Frame(self,parent)\n",
    "        bottomframe.pack(side=\"top\" )\n",
    "        bottomframe2 = tk.Frame(bottomframe,parent)\n",
    "        bottomframe2.pack(side=\"bottom\" )\n",
    "        label = tk.Label(bottomframe, text=\"Fragmentación\", font=controller.title_font)\n",
    "        label.pack(side=\"top\", fill=\"x\", pady=10)\n",
    "        button = tk.Button(bottomframe, text=\"Volver atras\",\n",
    "                           command=lambda: controller.show_frame(\"StartPage\"))\n",
    "        button.pack()\n",
    "        button2 = tk.Button(bottomframe, text=\"Aplicar machine learning\",\n",
    "                            command=lambda: controller.show_frame(\"PageTwo\"))\n",
    "        button2.pack()\n",
    "        \n",
    "        #---------------------------------\n",
    "        # create the text widget\n",
    "        # apply the grid layout\n",
    "        bottomframe2.grid_columnconfigure(0, weight=1)\n",
    "        bottomframe2.grid_rowconfigure(0, weight=1)\n",
    "        text = tk.Text(bottomframe2, height=10)\n",
    "        text.grid(row=0, column=0, sticky='ew')\n",
    "        text.insert(tk.INSERT, text_sql)\n",
    "\n",
    "        # create a scrollbar widget and set its command to the text widget\n",
    "        scrollbar = ttk.Scrollbar(bottomframe2, orient='vertical', command=text.yview)\n",
    "        scrollbar.grid(row=0, column=1, sticky='ns')\n",
    "\n",
    "        #  communicate back to the scrollbar\n",
    "        text['yscrollcommand'] = scrollbar.set\n",
    "\n",
    "\n",
    "class PageTwo(tk.Frame):\n",
    "\n",
    "    def __init__(self, parent, controller):\n",
    "        tk.Frame.__init__(self, parent)\n",
    "        self.controller = controller\n",
    "        label = tk.Label(self, text=\"Resultados machine learning\", font=controller.title_font)\n",
    "        label.pack(side=\"top\", fill=\"x\", pady=10)\n",
    "        button = tk.Button(self, text=\"Volver al inicio\",\n",
    "                           command=lambda: controller.show_frame(\"StartPage\"))\n",
    "        button.pack()\n",
    "if __name__ == \"__main__\":\n",
    "    app = SampleApp()\n",
    "    app.mainloop()"
   ]
  }
 ],
 "metadata": {
  "colab": {
   "collapsed_sections": [],
   "name": "ejemplo1.ipynb",
   "provenance": []
  },
  "kernelspec": {
   "display_name": "Python 3",
   "language": "python",
   "name": "python3"
  },
  "language_info": {
   "codemirror_mode": {
    "name": "ipython",
    "version": 3
   },
   "file_extension": ".py",
   "mimetype": "text/x-python",
   "name": "python",
   "nbconvert_exporter": "python",
   "pygments_lexer": "ipython3",
   "version": "3.6.13"
  }
 },
 "nbformat": 4,
 "nbformat_minor": 5
}
