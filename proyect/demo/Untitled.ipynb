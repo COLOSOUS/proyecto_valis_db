{
 "cells": [
  {
   "cell_type": "code",
   "execution_count": 6,
   "id": "a5d2c750",
   "metadata": {},
   "outputs": [],
   "source": [
    "import tkinter as tk\n",
    "from tkinter.colorchooser import askcolor\n",
    "\n",
    "\n",
    "def cambiar_color():\n",
    "    color = 'green'\n",
    "    canvas.itemconfigure(texto,fill= color)\n",
    "\n",
    "root = tk.Tk()\n",
    "canvas = tk.Canvas(root)\n",
    "canvas.pack(expand=1, fill=tk.BOTH)\n",
    "texto = canvas.create_text(420,200,text='¡Hola Mundo!', anchor='e', font=(\"Courier\", 25))\n",
    "botonC = tk.Button(text='Selecciona color', command=cambiar_color).pack()\n",
    "root.geometry('600x400')\n",
    "root.mainloop()"
   ]
  },
  {
   "cell_type": "code",
   "execution_count": null,
   "id": "85508cd9",
   "metadata": {},
   "outputs": [],
   "source": []
  }
 ],
 "metadata": {
  "kernelspec": {
   "display_name": "Python 3",
   "language": "python",
   "name": "python3"
  },
  "language_info": {
   "codemirror_mode": {
    "name": "ipython",
    "version": 3
   },
   "file_extension": ".py",
   "mimetype": "text/x-python",
   "name": "python",
   "nbconvert_exporter": "python",
   "pygments_lexer": "ipython3",
   "version": "3.6.13"
  }
 },
 "nbformat": 4,
 "nbformat_minor": 5
}
